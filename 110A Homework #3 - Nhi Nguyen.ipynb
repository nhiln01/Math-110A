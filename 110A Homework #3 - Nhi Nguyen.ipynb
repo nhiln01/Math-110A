{
 "cells": [
  {
   "cell_type": "markdown",
   "metadata": {},
   "source": [
    "# Homework #3 #\n",
    "\n",
    "## Due 11:59 pm Feb 27  (Submit all work including computer codes) ###\n",
    "\n",
    "**1. (60 points) Program Polak-Ribiere and Fletcher-Reeves conjugate gradient methods with exact line search to minimize the Rosenbrock function:**\n",
    "$ f(x) = 100 ( x^2 − x_{1}^2 )^2 + ( 1 − x_{1} )^2 $"
   ]
  },
  {
   "cell_type": "markdown",
   "metadata": {},
   "source": [
    "### Part A ###\n",
    "\n",
    "Choose initial point $(1.2, 1.2)$, set tolerance (say $1 * e^{-8}$, adjust if necessary) on the norm of gradient, and study convergence (linear or super-linear) for each method. How do they compare ?"
   ]
  },
  {
   "cell_type": "code",
   "execution_count": 1,
   "metadata": {},
   "outputs": [],
   "source": [
    "import numpy as np"
   ]
  },
  {
   "cell_type": "code",
   "execution_count": 2,
   "metadata": {},
   "outputs": [],
   "source": [
    "f = lambda x,y: 100*(y-x**2)**2 + (1-x)**2\n",
    "Df = lambda x,y: np.array([(200*(y-x**2)*(-2)*x + 2*(-1)*(y-x**2)),(200*(y-x**2))])\n",
    "\n",
    "x0,y0 = 1.2,1.2    # initial point for all methods"
   ]
  },
  {
   "cell_type": "code",
   "execution_count": 3,
   "metadata": {},
   "outputs": [],
   "source": [
    "def WolfeI(alpha,f,x,dx,p,c1=0.1):\n",
    "    '''Return True/False if Wolfe condition I is satisfied for the given alpha'''\n",
    "    LHS = f(x[0]+alpha*p[0], x[1]+alpha*p[1])\n",
    "    RHS = f(x[0],x[1])+c1*alpha*np.dot(dx,p)\n",
    "    return LHS <= RHS"
   ]
  },
  {
   "cell_type": "code",
   "execution_count": 4,
   "metadata": {},
   "outputs": [],
   "source": [
    "def PR_beta(Dfk,Dfk1, pk): #doesn't use pk, just including the parameter since other beta methods use pk\n",
    "    return ((Dfk1-Dfk)@Dfk1) / (Dfk@Dfk)\n",
    "\n",
    "def FR_beta(Dfk,Dfk1, pk): #doesn't use pk\n",
    "    return (Dfk1@Dfk1) / (Dfk@Dfk)"
   ]
  },
  {
   "cell_type": "code",
   "execution_count": 5,
   "metadata": {},
   "outputs": [],
   "source": [
    "def nonlinearCG(x0, y0, f, Df, beta, restart=True, tol=1e-8, max_steps=10000, rho=0.75):\n",
    "    x,y = x0,y0\n",
    "    path = [[x,y]]\n",
    "    i=0                   # iteration count\n",
    "    dx = Df(x,y)          # current gradient\n",
    "    pk = -dx\n",
    "    while np.linalg.norm(dx)>tol and i<max_steps:    \n",
    "        # backtracking\n",
    "        alpha = 1\n",
    "        while not WolfeI(alpha,f,np.array([x,y]),dx,pk) and alpha>1e-5: # lower bound on alpha attempts to force Wolfe II\n",
    "            alpha *= rho\n",
    "\n",
    "        xnew,ynew = x + alpha*pk[0], y + alpha*pk[1]\n",
    "        dx1 = Df(xnew,ynew)      # Df_{k+1}\n",
    "        bk = beta(dx,dx1,pk)  # beta_k\n",
    "        if restart and i%2 == 0:\n",
    "            bk=0\n",
    "        pk = -dx1 + bk*pk\n",
    "        path.append([xnew,ynew])\n",
    "        x,y = xnew,ynew\n",
    "        dx = dx1\n",
    "        i += 1\n",
    "    return np.array(path), i, x, y"
   ]
  },
  {
   "cell_type": "code",
   "execution_count": 6,
   "metadata": {},
   "outputs": [
    {
     "name": "stdout",
     "output_type": "stream",
     "text": [
      "After 1853 iterations, approximate minimum for PR is 0.012043849958000773 at (1.109744475751633, 1.2315328014816844)\n",
      "After 1163 iterations, approximate minimum for FR is 0.011759300258886746 at (1.1084403073533395, 1.2286399149856848)\n"
     ]
    }
   ],
   "source": [
    "path_PR, i_PR, x_PR, y_PR = nonlinearCG(x0, y0, f, Df, PR_beta, True)\n",
    "print(f'After {i_PR} iterations, approximate minimum for PR is {f(x_PR,y_PR)} at {x_PR,y_PR}')\n",
    "path_FR, i_FR, x_FR, y_FR = nonlinearCG(x0, y0, f, Df, FR_beta, True)\n",
    "print(f'After {i_FR} iterations, approximate minimum for FR is {f(x_FR,y_FR)} at {x_FR,y_FR}')"
   ]
  },
  {
   "cell_type": "markdown",
   "metadata": {},
   "source": [
    "The Polak-Ribiere and Fletcher-Reeves conjugate gradient methods yield a similar result, although the Flecher-Reeves conjugate gradient method took less iterations to get to that result."
   ]
  },
  {
   "cell_type": "markdown",
   "metadata": {},
   "source": [
    "### Part B ###\n",
    "\n",
    "Repeat A by performing direction vector restart every 3 iterations. "
   ]
  },
  {
   "cell_type": "code",
   "execution_count": 7,
   "metadata": {},
   "outputs": [],
   "source": [
    "def nonlinearCG(x0, y0, f, Df, beta, restart=True, tol=1e-8, max_steps=10000, rho=0.75):\n",
    "    x,y = x0,y0\n",
    "    path = [[x,y]]\n",
    "    i=0                   # iteration count\n",
    "    dx = Df(x,y)          # current gradient\n",
    "    pk = -dx\n",
    "    while np.linalg.norm(dx)>tol and i<max_steps:    \n",
    "        # backtracking\n",
    "        alpha = 1\n",
    "        while not WolfeI(alpha,f,np.array([x,y]),dx,pk) and alpha>1e-5: # lower bound on alpha attempts to force Wolfe II\n",
    "            alpha *= rho\n",
    "\n",
    "        xnew,ynew = x + alpha*pk[0], y + alpha*pk[1]\n",
    "        dx1 = Df(xnew,ynew)      # Df_{k+1}\n",
    "        bk = beta(dx,dx1,pk)  # beta_k\n",
    "        if restart and i%3 == 0:\n",
    "            bk=0\n",
    "        pk = -dx1 + bk*pk\n",
    "        path.append([xnew,ynew])\n",
    "        x,y = xnew,ynew\n",
    "        dx = dx1\n",
    "        i += 1\n",
    "    return np.array(path), i, x, y"
   ]
  },
  {
   "cell_type": "code",
   "execution_count": 8,
   "metadata": {},
   "outputs": [
    {
     "name": "stdout",
     "output_type": "stream",
     "text": [
      "After 1843 iterations, approximate minimum for PR with Restart is 0.012043894337510165 at (1.1097446779461773, 1.2315332502502776)\n",
      "After 17 iterations, approximate minimum for PR without Restart is nan at (nan, inf)\n"
     ]
    },
    {
     "name": "stderr",
     "output_type": "stream",
     "text": [
      "<ipython-input-8-5c1ff550b486>:1: RuntimeWarning: overflow encountered in double_scalars\n",
      "  f = lambda x,y: 100*(y-x**2)**2 + (1-x)**2\n",
      "<ipython-input-8-5c1ff550b486>:2: RuntimeWarning: overflow encountered in double_scalars\n",
      "  Df = lambda x,y: np.array([(200*(y-x**2)*(-2)*x + 2*(-1)*(y-x**2)),(200*(y-x**2))])\n",
      "<ipython-input-7-265df3550712>:18: RuntimeWarning: invalid value encountered in add\n",
      "  pk = -dx1 + bk*pk\n"
     ]
    },
    {
     "name": "stdout",
     "output_type": "stream",
     "text": [
      "After 880 iterations, approximate minimum for FR with Restart is 0.01160854303448537 at (1.1077429488852304, 1.2270944408251279)\n",
      "After 185 iterations, approximate minimum for FR without Restart is 0.010182359478602786 at (1.1009076779962892, 1.2119977154904495)\n"
     ]
    }
   ],
   "source": [
    "f = lambda x,y: 100*(y-x**2)**2 + (1-x)**2\n",
    "Df = lambda x,y: np.array([(200*(y-x**2)*(-2)*x + 2*(-1)*(y-x**2)),(200*(y-x**2))])\n",
    "x0,y0 = 1.2,1.2    # initial point for all methods\n",
    "\n",
    "path_PR, i_PR, x_PR, y_PR = nonlinearCG(x0, y0, f, Df, PR_beta, True)\n",
    "print(f'After {i_PR} iterations, approximate minimum for PR with Restart is {f(x_PR,y_PR)} at {x_PR,y_PR}')\n",
    "\n",
    "\n",
    "path_PRf, i_PRf, x_PRf, y_PRf = nonlinearCG(x0, y0, f, Df, PR_beta, False)\n",
    "print(f'After {i_PRf} iterations, approximate minimum for PR without Restart is {f(x_PRf,y_PRf)} at {x_PRf,y_PRf}')\n",
    "\n",
    "path_FR, i_FR, x_FR, y_FR = nonlinearCG(x0, y0, f, Df, FR_beta, True)\n",
    "print(f'After {i_FR} iterations, approximate minimum for FR with Restart is {f(x_FR,y_FR)} at {x_FR,y_FR}')\n",
    "\n",
    "path_FRf, i_FRf, x_FRf, y_FRf = nonlinearCG(x0, y0, f, Df, FR_beta, False)\n",
    "print(f'After {i_FRf} iterations, approximate minimum for FR without Restart is {f(x_FRf,y_FRf)} at {x_FRf,y_FRf}')"
   ]
  },
  {
   "cell_type": "markdown",
   "metadata": {},
   "source": [
    "### Part C ###\n",
    "\n",
    "Repeat A & B for initial point $(-1.2, 1)$."
   ]
  },
  {
   "cell_type": "code",
   "execution_count": 9,
   "metadata": {},
   "outputs": [
    {
     "name": "stdout",
     "output_type": "stream",
     "text": [
      "After 2520 iterations, approximate minimum for PR with Restart is 4.100734660868428 at (-1.0250270765766143, 1.0506805077371888)\n",
      "After 2479 iterations, approximate minimum for PR without Restart is 4.100238583397993 at (-1.0249045862454835, 1.0504294109289871)\n",
      "After 1087 iterations, approximate minimum for FR with Restart is 4.012776047287621 at (-1.0031914654589613, 1.00639311639205)\n",
      "After 261 iterations, approximate minimum for FR without Restart is 3.1634157456502616 at (-0.7785993775019324, 0.6062169906720151)\n"
     ]
    }
   ],
   "source": [
    "f = lambda x,y: 100*(y-x**2)**2 + (1-x)**2\n",
    "Df = lambda x,y: np.array([(200*(y-x**2)*(-2)*x + 2*(-1)*(y-x**2)),(200*(y-x**2))])\n",
    "x0,y0 = -1.2,1    # initial point for all methods\n",
    "\n",
    "path_PR, i_PR, x_PR, y_PR = nonlinearCG(x0, y0, f, Df, PR_beta, True)\n",
    "print(f'After {i_PR} iterations, approximate minimum for PR with Restart is {f(x_PR,y_PR)} at {x_PR,y_PR}')\n",
    "\n",
    "\n",
    "path_PRf, i_PRf, x_PRf, y_PRf = nonlinearCG(x0, y0, f, Df, PR_beta, False)\n",
    "print(f'After {i_PRf} iterations, approximate minimum for PR without Restart is {f(x_PRf,y_PRf)} at {x_PRf,y_PRf}')\n",
    "\n",
    "path_FR, i_FR, x_FR, y_FR = nonlinearCG(x0, y0, f, Df, FR_beta, True)\n",
    "print(f'After {i_FR} iterations, approximate minimum for FR with Restart is {f(x_FR,y_FR)} at {x_FR,y_FR}')\n",
    "\n",
    "path_FRf, i_FRf, x_FRf, y_FRf = nonlinearCG(x0, y0, f, Df, FR_beta, False)\n",
    "print(f'After {i_FRf} iterations, approximate minimum for FR without Restart is {f(x_FRf,y_FRf)} at {x_FRf,y_FRf}')"
   ]
  }
 ],
 "metadata": {
  "kernelspec": {
   "display_name": "Python 3",
   "language": "python",
   "name": "python3"
  },
  "language_info": {
   "codemirror_mode": {
    "name": "ipython",
    "version": 3
   },
   "file_extension": ".py",
   "mimetype": "text/x-python",
   "name": "python",
   "nbconvert_exporter": "python",
   "pygments_lexer": "ipython3",
   "version": "3.8.5"
  }
 },
 "nbformat": 4,
 "nbformat_minor": 4
}
